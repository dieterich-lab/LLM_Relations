{
 "cells": [
  {
   "cell_type": "code",
   "execution_count": 4,
   "metadata": {},
   "outputs": [],
   "source": [
    "import nest_asyncio\n",
    "\n",
    "nest_asyncio.apply()\n",
    "\n",
    "import os\n",
    "\n",
    "# API access to llama-cloud\n",
    "os.environ[\"LLAMA_CLOUD_API_KEY\"] = \"\" # Your API key\n"
   ]
  },
  {
   "cell_type": "code",
   "execution_count": 6,
   "metadata": {},
   "outputs": [],
   "source": [
    "from llama_parse import LlamaParse\n",
    "\n",
    "parser = LlamaParse(\n",
    "    result_type=\"markdown\",  # \"markdown\" and \"text\" are available\n",
    "    num_workers=4,  # if multiple files passed, split in `num_workers` API calls\n",
    "    verbose=True,\n",
    "    language=\"en\",  # Optionally you can define a language, default=en\n",
    ")"
   ]
  },
  {
   "cell_type": "code",
   "execution_count": 53,
   "metadata": {},
   "outputs": [
    {
     "data": {
      "text/plain": [
       "1129"
      ]
     },
     "execution_count": 53,
     "metadata": {},
     "output_type": "execute_result"
    }
   ],
   "source": [
    "import glob\n",
    "\n",
    "#path1 = \"/beegfs/prj/LINDA_LLM/PubMed_Resources/Papers_Human_Cardiac_Alternative_Splicing/pdf_separate\"\n",
    "#path2 = \"/beegfs/prj/LINDA_LLM/PubMed_Resources/Papers_Human_Cardiac_Signaling/pdf_separate\"\n",
    "trans_path = \"/beegfs/prj/LINDA_LLM/PubMed_Resources/Papers_Human_TF_Genes/pdf_separate\"\n",
    "#docs1 = glob.glob(path1 + \"/*.pdf\") \n",
    "#docs2 =  glob.glob(path2 + \"/*.pdf\")\n",
    "#raw_docs = docs1 + docs2\n",
    "raw_docs = glob.glob(trans_path + \"/*.pdf\") \n",
    "len(raw_docs)"
   ]
  },
  {
   "cell_type": "code",
   "execution_count": 54,
   "metadata": {},
   "outputs": [],
   "source": [
    "import logging\n",
    "\n",
    "logging.basicConfig(filename=\"/beegfs/prj/LINDA_LLM/outputs/logs/llama_parse.log\",\n",
    "                    filemode='a+',\n",
    "                    format='%(asctime)s,%(msecs)d %(name)s %(levelname)s %(message)s',\n",
    "                    datefmt='%d,%H:%M',\n",
    "                    level=logging.INFO)\n",
    "logger = logging.getLogger(__name__)"
   ]
  },
  {
   "cell_type": "code",
   "execution_count": 55,
   "metadata": {},
   "outputs": [
    {
     "data": {
      "text/plain": [
       "1128"
      ]
     },
     "execution_count": 55,
     "metadata": {},
     "output_type": "execute_result"
    }
   ],
   "source": [
    "from pathlib import Path\n",
    "\n",
    "tf_papers_path = \"/beegfs/prj/LINDA_LLM/outputs/parsed_papers/tf/llama_parse\"\n",
    "tf_papers = list(Path(tf_papers_path).glob(\"*.txt\"))\n",
    "parsed_papers = [x for x in tf_papers if open(x, \"r\").read().strip()]\n",
    "len(parsed_papers)"
   ]
  },
  {
   "cell_type": "code",
   "execution_count": 56,
   "metadata": {},
   "outputs": [
    {
     "name": "stdout",
     "output_type": "stream",
     "text": [
      "parsing 10.1172_JCI119817\n",
      "Started parsing the file under job_id 9d03dae8-4940-4f86-81fd-502b1d021b2e\n",
      "Error while parsing the file '/beegfs/prj/LINDA_LLM/PubMed_Resources/Papers_Human_TF_Genes/pdf_separate/10.1172_JCI119817.pdf': \n"
     ]
    }
   ],
   "source": [
    "import time\n",
    "\n",
    "for i, rd in enumerate(raw_docs):\n",
    "    logger.info((i, Path(rd).stem))\n",
    "    parsed_paper = [x for x in parsed_papers if Path(rd).stem == Path(x).stem]\n",
    "    if parsed_paper:\n",
    "        #print(\"skipping\", rd)\n",
    "        continue\n",
    "    print(\"parsing\", Path(rd).stem)\n",
    "    docs = parser.load_data(rd)\n",
    "    #while docs == []:\n",
    "    #    print(\"sleeping...\")\n",
    "    #    time.sleep(60*60)\n",
    "    #    docs = parser.load_data(rd)\n",
    "    with open(f\"{tf_papers_path}/{Path(rd).stem}.txt\", \"w\") as f:\n",
    "        for doc in docs:\n",
    "            print(doc.text, file=f)"
   ]
  },
  {
   "cell_type": "code",
   "execution_count": null,
   "metadata": {},
   "outputs": [],
   "source": []
  },
  {
   "cell_type": "code",
   "execution_count": null,
   "metadata": {},
   "outputs": [],
   "source": []
  }
 ],
 "metadata": {
  "kernelspec": {
   "display_name": "linda",
   "language": "python",
   "name": "linda"
  },
  "language_info": {
   "codemirror_mode": {
    "name": "ipython",
    "version": 3
   },
   "file_extension": ".py",
   "mimetype": "text/x-python",
   "name": "python",
   "nbconvert_exporter": "python",
   "pygments_lexer": "ipython3",
   "version": "3.11.2"
  }
 },
 "nbformat": 4,
 "nbformat_minor": 4
}
